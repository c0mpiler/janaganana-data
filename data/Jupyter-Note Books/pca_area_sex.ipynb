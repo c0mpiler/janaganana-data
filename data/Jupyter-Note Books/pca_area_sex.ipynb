{
 "cells": [
  {
   "cell_type": "code",
   "execution_count": 60,
   "metadata": {
    "collapsed": false
   },
   "outputs": [],
   "source": [
    "# Reading csv file for pca data\n",
    "import pandas as pd\n",
    "data = pd.read_csv(\"/Users/mthipparthi/PycharmProjects/janaganana/data/pca_data.csv\")"
   ]
  },
  {
   "cell_type": "code",
   "execution_count": 61,
   "metadata": {
    "collapsed": false
   },
   "outputs": [],
   "source": [
    "# Plucking out only \"Tural\" and \"Urban\" data as \"Total\" can be calculated\n",
    "data = data[(data.TRU == \"Rural\") | (data.TRU == \"Urban\")]"
   ]
  },
  {
   "cell_type": "code",
   "execution_count": 62,
   "metadata": {
    "collapsed": false,
    "scrolled": true
   },
   "outputs": [
    {
     "data": {
      "text/html": [
       "<div>\n",
       "<table border=\"1\" class=\"dataframe\">\n",
       "  <thead>\n",
       "    <tr style=\"text-align: right;\">\n",
       "      <th></th>\n",
       "      <th>State</th>\n",
       "      <th>District</th>\n",
       "      <th>Level</th>\n",
       "      <th>Name</th>\n",
       "      <th>TRU</th>\n",
       "      <th>TOT_M</th>\n",
       "      <th>TOT_F</th>\n",
       "    </tr>\n",
       "  </thead>\n",
       "  <tbody>\n",
       "    <tr>\n",
       "      <th>1</th>\n",
       "      <td>1</td>\n",
       "      <td>0</td>\n",
       "      <td>STATE</td>\n",
       "      <td>JAMMU &amp; KASHMIR</td>\n",
       "      <td>Rural</td>\n",
       "      <td>4774477</td>\n",
       "      <td>4333583</td>\n",
       "    </tr>\n",
       "    <tr>\n",
       "      <th>2</th>\n",
       "      <td>1</td>\n",
       "      <td>0</td>\n",
       "      <td>STATE</td>\n",
       "      <td>JAMMU &amp; KASHMIR</td>\n",
       "      <td>Urban</td>\n",
       "      <td>1866185</td>\n",
       "      <td>1567057</td>\n",
       "    </tr>\n",
       "    <tr>\n",
       "      <th>4</th>\n",
       "      <td>1</td>\n",
       "      <td>1</td>\n",
       "      <td>DISTRICT</td>\n",
       "      <td>Kupwara</td>\n",
       "      <td>Rural</td>\n",
       "      <td>412038</td>\n",
       "      <td>353587</td>\n",
       "    </tr>\n",
       "    <tr>\n",
       "      <th>5</th>\n",
       "      <td>1</td>\n",
       "      <td>1</td>\n",
       "      <td>DISTRICT</td>\n",
       "      <td>Kupwara</td>\n",
       "      <td>Urban</td>\n",
       "      <td>62152</td>\n",
       "      <td>42577</td>\n",
       "    </tr>\n",
       "    <tr>\n",
       "      <th>7</th>\n",
       "      <td>1</td>\n",
       "      <td>2</td>\n",
       "      <td>DISTRICT</td>\n",
       "      <td>Badgam</td>\n",
       "      <td>Rural</td>\n",
       "      <td>343385</td>\n",
       "      <td>312448</td>\n",
       "    </tr>\n",
       "  </tbody>\n",
       "</table>\n",
       "</div>"
      ],
      "text/plain": [
       "   State  District     Level             Name    TRU    TOT_M    TOT_F\n",
       "1      1         0     STATE  JAMMU & KASHMIR  Rural  4774477  4333583\n",
       "2      1         0     STATE  JAMMU & KASHMIR  Urban  1866185  1567057\n",
       "4      1         1  DISTRICT          Kupwara  Rural   412038   353587\n",
       "5      1         1  DISTRICT          Kupwara  Urban    62152    42577\n",
       "7      1         2  DISTRICT           Badgam  Rural   343385   312448"
      ]
     },
     "execution_count": 62,
     "metadata": {},
     "output_type": "execute_result"
    }
   ],
   "source": [
    "columns_you_want = ['State','District','Level','Name','TRU', 'TOT_M', 'TOT_F'] \n",
    "df=data[columns_you_want]\n",
    "df.head(5)"
   ]
  },
  {
   "cell_type": "code",
   "execution_count": 64,
   "metadata": {
    "collapsed": false
   },
   "outputs": [
    {
     "data": {
      "text/html": [
       "<div>\n",
       "<table border=\"1\" class=\"dataframe\">\n",
       "  <thead>\n",
       "    <tr style=\"text-align: right;\">\n",
       "      <th></th>\n",
       "      <th>State</th>\n",
       "      <th>District</th>\n",
       "      <th>Level</th>\n",
       "      <th>Name</th>\n",
       "      <th>TRU</th>\n",
       "      <th>Total</th>\n",
       "      <th>sex</th>\n",
       "    </tr>\n",
       "  </thead>\n",
       "  <tbody>\n",
       "    <tr>\n",
       "      <th>1</th>\n",
       "      <td>1</td>\n",
       "      <td>0</td>\n",
       "      <td>STATE</td>\n",
       "      <td>JAMMU &amp; KASHMIR</td>\n",
       "      <td>Rural</td>\n",
       "      <td>4774477</td>\n",
       "      <td>Male</td>\n",
       "    </tr>\n",
       "    <tr>\n",
       "      <th>2</th>\n",
       "      <td>1</td>\n",
       "      <td>0</td>\n",
       "      <td>STATE</td>\n",
       "      <td>JAMMU &amp; KASHMIR</td>\n",
       "      <td>Urban</td>\n",
       "      <td>1866185</td>\n",
       "      <td>Male</td>\n",
       "    </tr>\n",
       "    <tr>\n",
       "      <th>4</th>\n",
       "      <td>1</td>\n",
       "      <td>1</td>\n",
       "      <td>DISTRICT</td>\n",
       "      <td>Kupwara</td>\n",
       "      <td>Rural</td>\n",
       "      <td>412038</td>\n",
       "      <td>Male</td>\n",
       "    </tr>\n",
       "    <tr>\n",
       "      <th>5</th>\n",
       "      <td>1</td>\n",
       "      <td>1</td>\n",
       "      <td>DISTRICT</td>\n",
       "      <td>Kupwara</td>\n",
       "      <td>Urban</td>\n",
       "      <td>62152</td>\n",
       "      <td>Male</td>\n",
       "    </tr>\n",
       "    <tr>\n",
       "      <th>7</th>\n",
       "      <td>1</td>\n",
       "      <td>2</td>\n",
       "      <td>DISTRICT</td>\n",
       "      <td>Badgam</td>\n",
       "      <td>Rural</td>\n",
       "      <td>343385</td>\n",
       "      <td>Male</td>\n",
       "    </tr>\n",
       "  </tbody>\n",
       "</table>\n",
       "</div>"
      ],
      "text/plain": [
       "   State  District     Level             Name    TRU    Total   sex\n",
       "1      1         0     STATE  JAMMU & KASHMIR  Rural  4774477  Male\n",
       "2      1         0     STATE  JAMMU & KASHMIR  Urban  1866185  Male\n",
       "4      1         1  DISTRICT          Kupwara  Rural   412038  Male\n",
       "5      1         1  DISTRICT          Kupwara  Urban    62152  Male\n",
       "7      1         2  DISTRICT           Badgam  Rural   343385  Male"
      ]
     },
     "execution_count": 64,
     "metadata": {},
     "output_type": "execute_result"
    }
   ],
   "source": [
    "#  Only taking out Male total and adding Male column to it\n",
    "columns_male = ['State','District','Level','Name','TRU', 'TOT_M'] \n",
    "df_m=df[columns_male]\n",
    "df_m['sex'] = 'Male'\n",
    "df_m.rename(columns={'TOT_M':'Total'}, inplace=True)\n",
    "df_m.head(5)"
   ]
  },
  {
   "cell_type": "code",
   "execution_count": 81,
   "metadata": {
    "collapsed": false
   },
   "outputs": [
    {
     "data": {
      "text/html": [
       "<div>\n",
       "<table border=\"1\" class=\"dataframe\">\n",
       "  <thead>\n",
       "    <tr style=\"text-align: right;\">\n",
       "      <th></th>\n",
       "      <th>State</th>\n",
       "      <th>District</th>\n",
       "      <th>Level</th>\n",
       "      <th>Name</th>\n",
       "      <th>TRU</th>\n",
       "      <th>Total</th>\n",
       "      <th>sex</th>\n",
       "    </tr>\n",
       "  </thead>\n",
       "  <tbody>\n",
       "    <tr>\n",
       "      <th>1</th>\n",
       "      <td>1</td>\n",
       "      <td>0</td>\n",
       "      <td>STATE</td>\n",
       "      <td>JAMMU &amp; KASHMIR</td>\n",
       "      <td>Rural</td>\n",
       "      <td>4333583</td>\n",
       "      <td>Female</td>\n",
       "    </tr>\n",
       "    <tr>\n",
       "      <th>2</th>\n",
       "      <td>1</td>\n",
       "      <td>0</td>\n",
       "      <td>STATE</td>\n",
       "      <td>JAMMU &amp; KASHMIR</td>\n",
       "      <td>Urban</td>\n",
       "      <td>1567057</td>\n",
       "      <td>Female</td>\n",
       "    </tr>\n",
       "    <tr>\n",
       "      <th>4</th>\n",
       "      <td>1</td>\n",
       "      <td>1</td>\n",
       "      <td>DISTRICT</td>\n",
       "      <td>Kupwara</td>\n",
       "      <td>Rural</td>\n",
       "      <td>353587</td>\n",
       "      <td>Female</td>\n",
       "    </tr>\n",
       "    <tr>\n",
       "      <th>5</th>\n",
       "      <td>1</td>\n",
       "      <td>1</td>\n",
       "      <td>DISTRICT</td>\n",
       "      <td>Kupwara</td>\n",
       "      <td>Urban</td>\n",
       "      <td>42577</td>\n",
       "      <td>Female</td>\n",
       "    </tr>\n",
       "    <tr>\n",
       "      <th>7</th>\n",
       "      <td>1</td>\n",
       "      <td>2</td>\n",
       "      <td>DISTRICT</td>\n",
       "      <td>Badgam</td>\n",
       "      <td>Rural</td>\n",
       "      <td>312448</td>\n",
       "      <td>Female</td>\n",
       "    </tr>\n",
       "  </tbody>\n",
       "</table>\n",
       "</div>"
      ],
      "text/plain": [
       "   State  District     Level             Name    TRU    Total     sex\n",
       "1      1         0     STATE  JAMMU & KASHMIR  Rural  4333583  Female\n",
       "2      1         0     STATE  JAMMU & KASHMIR  Urban  1567057  Female\n",
       "4      1         1  DISTRICT          Kupwara  Rural   353587  Female\n",
       "5      1         1  DISTRICT          Kupwara  Urban    42577  Female\n",
       "7      1         2  DISTRICT           Badgam  Rural   312448  Female"
      ]
     },
     "execution_count": 81,
     "metadata": {},
     "output_type": "execute_result"
    }
   ],
   "source": [
    "#  Only taking out Female total and adding Male column to it\n",
    "columns_female = ['State','District','Level','Name','TRU', 'TOT_F'] \n",
    "df_f=df[columns_female]\n",
    "df_f['sex'] = 'Female'\n",
    "df_f.rename(columns={'TOT_F':'Total'}, inplace=True)\n",
    "df_f.head(5)"
   ]
  },
  {
   "cell_type": "code",
   "execution_count": 83,
   "metadata": {
    "collapsed": false
   },
   "outputs": [
    {
     "data": {
      "text/html": [
       "<div>\n",
       "<table border=\"1\" class=\"dataframe\">\n",
       "  <thead>\n",
       "    <tr style=\"text-align: right;\">\n",
       "      <th></th>\n",
       "      <th>State</th>\n",
       "      <th>District</th>\n",
       "      <th>Level</th>\n",
       "      <th>Name</th>\n",
       "      <th>TRU</th>\n",
       "      <th>Total</th>\n",
       "      <th>sex</th>\n",
       "    </tr>\n",
       "  </thead>\n",
       "  <tbody>\n",
       "    <tr>\n",
       "      <th>1</th>\n",
       "      <td>1</td>\n",
       "      <td>0</td>\n",
       "      <td>STATE</td>\n",
       "      <td>JAMMU &amp; KASHMIR</td>\n",
       "      <td>Rural</td>\n",
       "      <td>4774477</td>\n",
       "      <td>Male</td>\n",
       "    </tr>\n",
       "    <tr>\n",
       "      <th>2</th>\n",
       "      <td>1</td>\n",
       "      <td>0</td>\n",
       "      <td>STATE</td>\n",
       "      <td>JAMMU &amp; KASHMIR</td>\n",
       "      <td>Urban</td>\n",
       "      <td>1866185</td>\n",
       "      <td>Male</td>\n",
       "    </tr>\n",
       "    <tr>\n",
       "      <th>1</th>\n",
       "      <td>1</td>\n",
       "      <td>0</td>\n",
       "      <td>STATE</td>\n",
       "      <td>JAMMU &amp; KASHMIR</td>\n",
       "      <td>Rural</td>\n",
       "      <td>4333583</td>\n",
       "      <td>Female</td>\n",
       "    </tr>\n",
       "    <tr>\n",
       "      <th>2</th>\n",
       "      <td>1</td>\n",
       "      <td>0</td>\n",
       "      <td>STATE</td>\n",
       "      <td>JAMMU &amp; KASHMIR</td>\n",
       "      <td>Urban</td>\n",
       "      <td>1567057</td>\n",
       "      <td>Female</td>\n",
       "    </tr>\n",
       "  </tbody>\n",
       "</table>\n",
       "</div>"
      ],
      "text/plain": [
       "   State  District  Level             Name    TRU    Total     sex\n",
       "1      1         0  STATE  JAMMU & KASHMIR  Rural  4774477    Male\n",
       "2      1         0  STATE  JAMMU & KASHMIR  Urban  1866185    Male\n",
       "1      1         0  STATE  JAMMU & KASHMIR  Rural  4333583  Female\n",
       "2      1         0  STATE  JAMMU & KASHMIR  Urban  1567057  Female"
      ]
     },
     "execution_count": 83,
     "metadata": {},
     "output_type": "execute_result"
    }
   ],
   "source": [
    "result = pd.concat([data4, data5])\n",
    "jk_df = result[result.Name==\"JAMMU & KASHMIR\"]\n",
    "jk_df.head(10)"
   ]
  },
  {
   "cell_type": "code",
   "execution_count": 84,
   "metadata": {
    "collapsed": false
   },
   "outputs": [
    {
     "data": {
      "text/html": [
       "<div>\n",
       "<table border=\"1\" class=\"dataframe\">\n",
       "  <thead>\n",
       "    <tr style=\"text-align: right;\">\n",
       "      <th></th>\n",
       "      <th>geo_code</th>\n",
       "      <th>geo_level</th>\n",
       "      <th>area</th>\n",
       "      <th>sex</th>\n",
       "      <th>total</th>\n",
       "    </tr>\n",
       "  </thead>\n",
       "  <tbody>\n",
       "    <tr>\n",
       "      <th>1</th>\n",
       "      <td>1</td>\n",
       "      <td>state</td>\n",
       "      <td>Rural</td>\n",
       "      <td>Male</td>\n",
       "      <td>4774477</td>\n",
       "    </tr>\n",
       "    <tr>\n",
       "      <th>2</th>\n",
       "      <td>1</td>\n",
       "      <td>state</td>\n",
       "      <td>Urban</td>\n",
       "      <td>Male</td>\n",
       "      <td>1866185</td>\n",
       "    </tr>\n",
       "    <tr>\n",
       "      <th>1</th>\n",
       "      <td>1</td>\n",
       "      <td>state</td>\n",
       "      <td>Rural</td>\n",
       "      <td>Female</td>\n",
       "      <td>4333583</td>\n",
       "    </tr>\n",
       "    <tr>\n",
       "      <th>2</th>\n",
       "      <td>1</td>\n",
       "      <td>state</td>\n",
       "      <td>Urban</td>\n",
       "      <td>Female</td>\n",
       "      <td>1567057</td>\n",
       "    </tr>\n",
       "  </tbody>\n",
       "</table>\n",
       "</div>"
      ],
      "text/plain": [
       "   geo_code geo_level   area     sex    total\n",
       "1         1     state  Rural    Male  4774477\n",
       "2         1     state  Urban    Male  1866185\n",
       "1         1     state  Rural  Female  4333583\n",
       "2         1     state  Urban  Female  1567057"
      ]
     },
     "execution_count": 84,
     "metadata": {},
     "output_type": "execute_result"
    }
   ],
   "source": [
    "#cleaning the data to suit intenal tables\n",
    "result['Level']=result['Level'].str.lower()\n",
    "#  copying the district code to code if district else if state state code\n",
    "result['geo_code']=0\n",
    "\n",
    "def func(ds):\n",
    "    if ds.District == 0:\n",
    "        ds.geo_code = ds.State\n",
    "    else:\n",
    "        ds.geo_code= ds.District\n",
    "    return ds\n",
    "\n",
    "result=result.apply(func, axis=1)\n",
    "\n",
    "\n",
    "result = result[['geo_code', 'Level' , 'TRU', 'sex' , 'Total']]\n",
    "# Changing column names\n",
    "result.columns = ['geo_code', 'geo_level', 'area', 'sex', 'total']\n",
    "\n",
    "jk_df = result[ (result.geo_code==1) & (result.geo_level=='state')]\n",
    "jk_df.head(10)\n"
   ]
  },
  {
   "cell_type": "code",
   "execution_count": 88,
   "metadata": {
    "collapsed": false
   },
   "outputs": [
    {
     "data": {
      "text/plain": [
       "1350"
      ]
     },
     "execution_count": 88,
     "metadata": {},
     "output_type": "execute_result"
    }
   ],
   "source": [
    "op_fn = '/Users/mthipparthi/PycharmProjects/janaganana/data/cleaned_data/pcv_data_area_sex.csv'\n",
    "result.to_csv(op_fn, index=False)\n",
    "\n",
    "len(result)\n",
    "len(df_f)"
   ]
  },
  {
   "cell_type": "code",
   "execution_count": 48,
   "metadata": {
    "collapsed": false
   },
   "outputs": [
    {
     "data": {
      "text/html": [
       "<div>\n",
       "<table border=\"1\" class=\"dataframe\">\n",
       "  <thead>\n",
       "    <tr style=\"text-align: right;\">\n",
       "      <th></th>\n",
       "      <th>geo_code</th>\n",
       "      <th>geo_level</th>\n",
       "      <th>area</th>\n",
       "      <th>sex</th>\n",
       "      <th>total</th>\n",
       "    </tr>\n",
       "  </thead>\n",
       "  <tbody>\n",
       "    <tr>\n",
       "      <th>0</th>\n",
       "      <td>1</td>\n",
       "      <td>state</td>\n",
       "      <td>Rural</td>\n",
       "      <td>Male</td>\n",
       "      <td>4774477</td>\n",
       "    </tr>\n",
       "    <tr>\n",
       "      <th>1</th>\n",
       "      <td>1</td>\n",
       "      <td>state</td>\n",
       "      <td>Urban</td>\n",
       "      <td>Male</td>\n",
       "      <td>1866185</td>\n",
       "    </tr>\n",
       "    <tr>\n",
       "      <th>2</th>\n",
       "      <td>1</td>\n",
       "      <td>district</td>\n",
       "      <td>Rural</td>\n",
       "      <td>Male</td>\n",
       "      <td>412038</td>\n",
       "    </tr>\n",
       "    <tr>\n",
       "      <th>3</th>\n",
       "      <td>1</td>\n",
       "      <td>district</td>\n",
       "      <td>Urban</td>\n",
       "      <td>Male</td>\n",
       "      <td>62152</td>\n",
       "    </tr>\n",
       "    <tr>\n",
       "      <th>1350</th>\n",
       "      <td>1</td>\n",
       "      <td>state</td>\n",
       "      <td>Rural</td>\n",
       "      <td>Female</td>\n",
       "      <td>4333583</td>\n",
       "    </tr>\n",
       "  </tbody>\n",
       "</table>\n",
       "</div>"
      ],
      "text/plain": [
       "      geo_code geo_level   area     sex    total\n",
       "0            1     state  Rural    Male  4774477\n",
       "1            1     state  Urban    Male  1866185\n",
       "2            1  district  Rural    Male   412038\n",
       "3            1  district  Urban    Male    62152\n",
       "1350         1     state  Rural  Female  4333583"
      ]
     },
     "execution_count": 48,
     "metadata": {},
     "output_type": "execute_result"
    }
   ],
   "source": [
    "# data4 and data5\n",
    "# result=pd.merge(data4, data5, on=['State','District','Level','Name', 'TRU'])\n",
    "# # result.head()\n",
    "# # result = pd.concat([data4, data5], keys=['Level','Name', 'TRU', 'sex'])\n",
    "# # # \n",
    "# # opf = \"/Users/mthipparthi/PycharmProjects/janaganana/sql/india/pcv_data_clean.csv\"\n",
    "# # file = open(opf, 'w+')\n",
    "# # result.to_csv(file)\n",
    "# # rl=result[result.Name=='JAMMU & KASHMIR']\n",
    "# # rl2 = rl[['State','District', 'Level', 'Name', 'TRU', 'Total', 'sex']]\n",
    "# # l2\n",
    "\n",
    "\n",
    "# # \n",
    "# opf = '/Users/mthipparthi/PycharmProjects/janaganana/data/pcv_data_clean_temp.csv'\n",
    "# file = open(opf, 'w+')\n",
    "# result.to_csv(file)\n",
    "\n",
    "# df = pd.read_csv(opf)\n",
    "# df=df[['State','District', 'Level', 'Name', 'TRU', 'Total', 'sex']]\n",
    "\n",
    "# #  ignoring the column row(name row)\n",
    "# # df = df[1:]\n",
    "# #  upper case to lower case\n",
    "# df['Level']=df['Level'].str.lower()\n",
    "\n",
    "# #  copying the district code to code if district else if state state code\n",
    "# df['code']=0\n",
    "# def func(df):\n",
    "#     if df.District == 0:\n",
    "#         df.code = df.State\n",
    "#     else:\n",
    "#         df.code= df.District\n",
    "#     return df\n",
    "\n",
    "# df=df.apply(func, axis=1)\n",
    "\n",
    "# df = df[['code', 'Level' , 'TRU', 'sex' , 'Total']]\n",
    "# # Changing column names\n",
    "# df.columns = ['geo_code', 'geo_level', 'area', 'sex', 'total']\n",
    "\n",
    "# # df.apply(func, axis=1)  \n",
    "# opf2 = '/Users/mthipparthi/PycharmProjects/janaganana/data/cleaned_data/pcv_data_area_sex.csv'\n",
    "# file = open(opf2, 'w+')\n",
    "# df.to_csv(file, index=False)\n",
    "# abc = df[df.geo_code==1]\n",
    "# abc.head(5)"
   ]
  },
  {
   "cell_type": "code",
   "execution_count": null,
   "metadata": {
    "collapsed": true
   },
   "outputs": [],
   "source": [
    "df"
   ]
  }
 ],
 "metadata": {
  "anaconda-cloud": {},
  "kernelspec": {
   "display_name": "Python [Root]",
   "language": "python",
   "name": "Python [Root]"
  },
  "language_info": {
   "codemirror_mode": {
    "name": "ipython",
    "version": 3
   },
   "file_extension": ".py",
   "mimetype": "text/x-python",
   "name": "python",
   "nbconvert_exporter": "python",
   "pygments_lexer": "ipython3",
   "version": "3.5.2"
  }
 },
 "nbformat": 4,
 "nbformat_minor": 0
}
