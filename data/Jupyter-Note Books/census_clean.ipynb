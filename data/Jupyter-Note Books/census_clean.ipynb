{
 "cells": [
  {
   "cell_type": "code",
   "execution_count": 1,
   "metadata": {
    "collapsed": false
   },
   "outputs": [
    {
     "data": {
      "text/plain": [
       "'3.5.2 |Anaconda 4.1.1 (x86_64)| (default, Jul  2 2016, 17:52:12) \\n[GCC 4.2.1 Compatible Apple LLVM 4.2 (clang-425.0.28)]'"
      ]
     },
     "execution_count": 1,
     "metadata": {},
     "output_type": "execute_result"
    }
   ],
   "source": [
    "import sys\n",
    "sys.version"
   ]
  },
  {
   "cell_type": "code",
   "execution_count": 164,
   "metadata": {
    "collapsed": false
   },
   "outputs": [],
   "source": [
    "import pandas as pd\n",
    "a3_path=\"/Users/mthipparthi/PycharmProjects/census/data/A-3_Vill/A-3 MDDS_Release.xls\"\n",
    "# Taking only first 8 columns as rest of them are mere derivatives of column 6,7,8\n",
    "df = pd.read_excel(a3_path, header=1, parse_cols=8 )\n",
    "\n",
    "# changing column names\n",
    "df.columns = ['state_code','district_code', 'sub_district_code','level', 'area_name', \n",
    "              'inhabited_villages', 'rural_population', 'rural_male',  'rural_female']\n",
    "\n",
    "# Removing invalid columns  \n",
    "df=df[df.area_name.notnull()]\n",
    "df=df[df.level != 4]\n",
    "\n",
    "df.head(8)\n",
    "\n",
    "a3_clean_path=\"/Users/mthipparthi/PycharmProjects/census/data/cleaned_data/A-3_Vill/A-3 MDDS_Release_Clean.xls\"\n",
    "\n",
    "df.to_excel(a3_clean_path)"
   ]
  },
  {
   "cell_type": "code",
   "execution_count": 23,
   "metadata": {
    "collapsed": false
   },
   "outputs": [],
   "source": [
    "import pandas as pd\n",
    "\n",
    "b_DDW_0000B_02=\"/Users/mthipparthi/PycharmProjects/census/data/B-series/DDW-0000B-02.xlsx\"\n",
    "\n",
    "columns = ['table_name', 'state_code', 'district_code', 'type', 'area_name', 'religious_community', 'age_group', \n",
    "'total_population', 'total_population_male', 'total_population_female', \n",
    "'total_main_workers','total_main_workers_male', 'total_main_workers_female',\n",
    "'total_marginal_workers','total_marginal_workers_male', 'total_marginal_workers_female',\n",
    "'total_marginal_workers_seeking','total_marginal_workers_male_seeking', 'total_marginal_workers_female_seeking',\n",
    "'total_non_workers','total_non_workers_male', 'total_non_workers_female',\n",
    "'total_non_workers_seeking','total_non_workers_male_seeking', 'total_non_workers_female_seeking',\n",
    "  ]\n",
    "\n",
    "df = pd.read_excel(b_DDW_0000B_02, header=1)\n",
    "# print(df.head(8))\n",
    "\n",
    "df.columns = columns\n",
    "df = df[df['table_name'].notnull()]\n",
    "b_DDW_0000B_02_clean_path=\"/Users/mthipparthi/PycharmProjects/census/data/cleaned_data/B-series/DDW-0000B-02.xlsx\"\n",
    "df.to_excel(b_DDW_0000B_02_clean_path)\n"
   ]
  },
  {
   "cell_type": "code",
   "execution_count": 33,
   "metadata": {
    "collapsed": false
   },
   "outputs": [],
   "source": [
    "import pandas as pd\n",
    "b_DDW_0000B_12=\"/Users/mthipparthi/PycharmProjects/census/data/B-series/DDW-0000B-12.xlsx\"\n",
    "\n",
    "\n",
    "columns = [\n",
    "'table_name', 'state_code', 'district_code', 'type', 'area_name', 'religious_community', 'age_group', \n",
    "'total_marginal_workers','total_marginal_workers_male', 'total_marginal_workers_female',\n",
    "'total_students','total_students_male', 'total_students_female',\n",
    "'total_household_duties', 'total_household_duties_male', 'total_household_duties_female', \n",
    "'total_dependents','total_dependents_male', 'total_dependents_female',\n",
    "'total_pensioners','total_pensioners_male', 'total_pensioners_female',\n",
    "'total_rentiers','total_rentiers_male', 'total_rentiers_female',\n",
    "'total_beggers','total_beggers_male', 'total_beggers_female',\n",
    "'total_others','total_others_male', 'total_others_female',    \n",
    " ]\n",
    "\n",
    "\n",
    "df = pd.read_excel(b_DDW_0000B_12, header=1)\n",
    "df.columns = columns\n",
    "df = df[df.table_name.notnull() & df.table_name.str.startswith('B1012')]\n",
    "b_DDW_0000B_12_clean_path=\"/Users/mthipparthi/PycharmProjects/census/data/cleaned_data/B-series/DDW-0000B-12.xlsx\"\n",
    "df.to_excel(b_DDW_0000B_12_clean_path)"
   ]
  },
  {
   "cell_type": "code",
   "execution_count": 36,
   "metadata": {
    "collapsed": false
   },
   "outputs": [
    {
     "ename": "ValueError",
     "evalue": "Length mismatch: Expected axis has 31 elements, new values have 30 elements",
     "output_type": "error",
     "traceback": [
      "\u001b[0;31m---------------------------------------------------------------------------\u001b[0m",
      "\u001b[0;31mValueError\u001b[0m                                Traceback (most recent call last)",
      "\u001b[0;32m<ipython-input-36-0c3fb0104006>\u001b[0m in \u001b[0;36m<module>\u001b[0;34m()\u001b[0m\n\u001b[1;32m     16\u001b[0m \u001b[0;34m\u001b[0m\u001b[0m\n\u001b[1;32m     17\u001b[0m \u001b[0mdf\u001b[0m \u001b[0;34m=\u001b[0m \u001b[0mpd\u001b[0m\u001b[0;34m.\u001b[0m\u001b[0mread_excel\u001b[0m\u001b[0;34m(\u001b[0m\u001b[0mb_DDW_0000B_14\u001b[0m\u001b[0;34m,\u001b[0m \u001b[0mheader\u001b[0m\u001b[0;34m=\u001b[0m\u001b[0;36m1\u001b[0m\u001b[0;34m)\u001b[0m\u001b[0;34m\u001b[0m\u001b[0m\n\u001b[0;32m---> 18\u001b[0;31m \u001b[0mdf\u001b[0m\u001b[0;34m.\u001b[0m\u001b[0mcolumns\u001b[0m \u001b[0;34m=\u001b[0m \u001b[0mcolumns\u001b[0m\u001b[0;34m\u001b[0m\u001b[0m\n\u001b[0m\u001b[1;32m     19\u001b[0m \u001b[0mdf\u001b[0m \u001b[0;34m=\u001b[0m \u001b[0mdf\u001b[0m\u001b[0;34m[\u001b[0m\u001b[0mdf\u001b[0m\u001b[0;34m.\u001b[0m\u001b[0mtable_name\u001b[0m\u001b[0;34m.\u001b[0m\u001b[0mnotnull\u001b[0m\u001b[0;34m(\u001b[0m\u001b[0;34m)\u001b[0m \u001b[0;34m&\u001b[0m \u001b[0mdf\u001b[0m\u001b[0;34m.\u001b[0m\u001b[0mtable_name\u001b[0m\u001b[0;34m.\u001b[0m\u001b[0mstr\u001b[0m\u001b[0;34m.\u001b[0m\u001b[0mstartswith\u001b[0m\u001b[0;34m(\u001b[0m\u001b[0;34m'B1614'\u001b[0m\u001b[0;34m)\u001b[0m\u001b[0;34m]\u001b[0m\u001b[0;34m\u001b[0m\u001b[0m\n\u001b[1;32m     20\u001b[0m \u001b[0mb_DDW_0000B_14_clean_path\u001b[0m\u001b[0;34m=\u001b[0m\u001b[0;34m\"/Users/mthipparthi/PycharmProjects/census/data/cleaned_data/B-series/DDW-0000B-14.xlsx\"\u001b[0m\u001b[0;34m\u001b[0m\u001b[0m\n",
      "\u001b[0;32m/Users/mthipparthi/anaconda/lib/python3.5/site-packages/pandas/core/generic.py\u001b[0m in \u001b[0;36m__setattr__\u001b[0;34m(self, name, value)\u001b[0m\n\u001b[1;32m   2683\u001b[0m         \u001b[0;32mtry\u001b[0m\u001b[0;34m:\u001b[0m\u001b[0;34m\u001b[0m\u001b[0m\n\u001b[1;32m   2684\u001b[0m             \u001b[0mobject\u001b[0m\u001b[0;34m.\u001b[0m\u001b[0m__getattribute__\u001b[0m\u001b[0;34m(\u001b[0m\u001b[0mself\u001b[0m\u001b[0;34m,\u001b[0m \u001b[0mname\u001b[0m\u001b[0;34m)\u001b[0m\u001b[0;34m\u001b[0m\u001b[0m\n\u001b[0;32m-> 2685\u001b[0;31m             \u001b[0;32mreturn\u001b[0m \u001b[0mobject\u001b[0m\u001b[0;34m.\u001b[0m\u001b[0m__setattr__\u001b[0m\u001b[0;34m(\u001b[0m\u001b[0mself\u001b[0m\u001b[0;34m,\u001b[0m \u001b[0mname\u001b[0m\u001b[0;34m,\u001b[0m \u001b[0mvalue\u001b[0m\u001b[0;34m)\u001b[0m\u001b[0;34m\u001b[0m\u001b[0m\n\u001b[0m\u001b[1;32m   2686\u001b[0m         \u001b[0;32mexcept\u001b[0m \u001b[0mAttributeError\u001b[0m\u001b[0;34m:\u001b[0m\u001b[0;34m\u001b[0m\u001b[0m\n\u001b[1;32m   2687\u001b[0m             \u001b[0;32mpass\u001b[0m\u001b[0;34m\u001b[0m\u001b[0m\n",
      "\u001b[0;32mpandas/src/properties.pyx\u001b[0m in \u001b[0;36mpandas.lib.AxisProperty.__set__ (pandas/lib.c:44748)\u001b[0;34m()\u001b[0m\n",
      "\u001b[0;32m/Users/mthipparthi/anaconda/lib/python3.5/site-packages/pandas/core/generic.py\u001b[0m in \u001b[0;36m_set_axis\u001b[0;34m(self, axis, labels)\u001b[0m\n\u001b[1;32m    426\u001b[0m \u001b[0;34m\u001b[0m\u001b[0m\n\u001b[1;32m    427\u001b[0m     \u001b[0;32mdef\u001b[0m \u001b[0m_set_axis\u001b[0m\u001b[0;34m(\u001b[0m\u001b[0mself\u001b[0m\u001b[0;34m,\u001b[0m \u001b[0maxis\u001b[0m\u001b[0;34m,\u001b[0m \u001b[0mlabels\u001b[0m\u001b[0;34m)\u001b[0m\u001b[0;34m:\u001b[0m\u001b[0;34m\u001b[0m\u001b[0m\n\u001b[0;32m--> 428\u001b[0;31m         \u001b[0mself\u001b[0m\u001b[0;34m.\u001b[0m\u001b[0m_data\u001b[0m\u001b[0;34m.\u001b[0m\u001b[0mset_axis\u001b[0m\u001b[0;34m(\u001b[0m\u001b[0maxis\u001b[0m\u001b[0;34m,\u001b[0m \u001b[0mlabels\u001b[0m\u001b[0;34m)\u001b[0m\u001b[0;34m\u001b[0m\u001b[0m\n\u001b[0m\u001b[1;32m    429\u001b[0m         \u001b[0mself\u001b[0m\u001b[0;34m.\u001b[0m\u001b[0m_clear_item_cache\u001b[0m\u001b[0;34m(\u001b[0m\u001b[0;34m)\u001b[0m\u001b[0;34m\u001b[0m\u001b[0m\n\u001b[1;32m    430\u001b[0m \u001b[0;34m\u001b[0m\u001b[0m\n",
      "\u001b[0;32m/Users/mthipparthi/anaconda/lib/python3.5/site-packages/pandas/core/internals.py\u001b[0m in \u001b[0;36mset_axis\u001b[0;34m(self, axis, new_labels)\u001b[0m\n\u001b[1;32m   2633\u001b[0m             raise ValueError('Length mismatch: Expected axis has %d elements, '\n\u001b[1;32m   2634\u001b[0m                              \u001b[0;34m'new values have %d elements'\u001b[0m \u001b[0;34m%\u001b[0m\u001b[0;34m\u001b[0m\u001b[0m\n\u001b[0;32m-> 2635\u001b[0;31m                              (old_len, new_len))\n\u001b[0m\u001b[1;32m   2636\u001b[0m \u001b[0;34m\u001b[0m\u001b[0m\n\u001b[1;32m   2637\u001b[0m         \u001b[0mself\u001b[0m\u001b[0;34m.\u001b[0m\u001b[0maxes\u001b[0m\u001b[0;34m[\u001b[0m\u001b[0maxis\u001b[0m\u001b[0;34m]\u001b[0m \u001b[0;34m=\u001b[0m \u001b[0mnew_labels\u001b[0m\u001b[0;34m\u001b[0m\u001b[0m\n",
      "\u001b[0;31mValueError\u001b[0m: Length mismatch: Expected axis has 31 elements, new values have 30 elements"
     ]
    }
   ],
   "source": [
    "b_DDW_0000B_14=\"/Users/mthipparthi/PycharmProjects/census/data/B-series/DDW-0000B-14.xlsx\"\n",
    "\n",
    "\n",
    "columns = [\n",
    "'table_name', 'state_code', 'district_code', 'type', 'area_name', 'religious_community',\n",
    "'total_non_workers','total_non_workers_male', 'total_non_workers_female',\n",
    "'total_students','total_students_male', 'total_students_female',\n",
    "'total_household_duties', 'total_household_duties_male', 'total_household_duties_female', \n",
    "'total_dependents','total_dependents_male', 'total_dependents_female',\n",
    "'total_pensioners','total_pensioners_male', 'total_pensioners_female',\n",
    "'total_rentiers','total_rentiers_male', 'total_rentiers_female',\n",
    "'total_beggers','total_beggers_male', 'total_beggers_female',\n",
    "'total_others','total_others_male', 'total_others_female',    \n",
    " ]\n",
    "\n",
    "\n",
    "df = pd.read_excel(b_DDW_0000B_14, header=1)\n",
    "df.columns = columns\n",
    "df = df[df.table_name.notnull() & df.table_name.str.startswith('B1614')]\n",
    "b_DDW_0000B_14_clean_path=\"/Users/mthipparthi/PycharmProjects/census/data/cleaned_data/B-series/DDW-0000B-14.xlsx\"\n",
    "df.to_excel(b_DDW_0000B_14_clean_path)"
   ]
  },
  {
   "cell_type": "code",
   "execution_count": 37,
   "metadata": {
    "collapsed": false
   },
   "outputs": [],
   "source": [
    "import pandas as pd\n",
    "b_DDWCITY_B_03=\"/Users/mthipparthi/PycharmProjects/census/data/B-series/DDWCITY-B-03-0000.xlsx\"\n",
    "\n",
    "columns = ['table_name', 'state_code', 'town_code', 'type', 'area_name', 'educational_level',\n",
    "'total_population', 'total_population_male', 'total_population_female',\n",
    "'total_main_workers','total_main_workers_male', 'total_main_workers_female',\n",
    "'total_marginal_workers','total_marginal_workers_male', 'total_marginal_workers_female',\n",
    "'total_marginal_workers_seeking','total_marginal_workers_male_seeking', 'total_marginal_workers_female_seeking',\n",
    "'total_non_workers','total_non_workers_male', 'total_non_workers_female',\n",
    "'total_non_workers_seeking','total_non_workers_male_seeking', 'total_non_workers_female_seeking',\n",
    "  ]\n",
    "\n",
    "df = pd.read_excel(b_DDWCITY_B_03, header=1)\n",
    "# print(df.head(8))\n",
    "\n",
    "df.columns = columns\n",
    "df = df[df['table_name'].notnull() & df.table_name.str.startswith('B0103')]\n",
    "b_DDWCITY_B_03_clean_path=\"/Users/mthipparthi/PycharmProjects/census/data/cleaned_data/B-series/DDWCITY-B-03-0000.xlsx\"\n",
    "df.to_excel(b_DDWCITY_B_03_clean_path)\n"
   ]
  },
  {
   "cell_type": "code",
   "execution_count": 38,
   "metadata": {
    "collapsed": false
   },
   "outputs": [],
   "source": [
    "import pandas as pd\n",
    "b_DDWCITY_B_09=\"/Users/mthipparthi/PycharmProjects/census/data/B-series/DDWCITY-B-09-0000.xlsx\"\n",
    "\n",
    "columns = ['table_name', 'state_code', 'town_code', 'type', 'area_name', 'educational_level',\n",
    "'total_main_workers','total_main_workers_male', 'total_main_workers_female',\n",
    "'total_main_workers_5_14','total_main_workers_5_14_male', 'total_main_workers_5_14_female',           \n",
    "'total_main_workers_15_19','total_main_workers_15_19_male', 'total_main_workers_15_19_female',\n",
    "'total_main_workers_20_24','total_main_workers_20_24_male', 'total_main_workers_20_24_female',\n",
    "'total_main_workers_25_29','total_main_workers_25_29_male', 'total_main_workers_25_29_female',\n",
    "'total_main_workers_30_34','total_main_workers_30_34_male', 'total_main_workers_30_34_female',\n",
    "'total_main_workers_35_39','total_main_workers_35_39_male', 'total_main_workers_35_39_female',\n",
    "'total_main_workers_40_49','total_main_workers_40_49_male', 'total_main_workers_40_49_female',\n",
    "'total_main_workers_50_59','total_main_workers_50_59_male', 'total_main_workers_50_59_female',\n",
    "'total_main_workers_60_69','total_main_workers_60_69_male', 'total_main_workers_60_69_female',\n",
    "'total_main_workers_70_plus','total_main_workers_70_plus_male', 'total_main_workers_70_plus_female',\n",
    "'total_main_workers_age_not_stated','total_main_workers_age_not_stated_male', 'total_main_workers_age_not_stated_female',\n",
    "  ]\n",
    "\n",
    "df = pd.read_excel(b_DDWCITY_B_09, header=1)\n",
    "# print(df.head(8))\n",
    "\n",
    "df.columns = columns\n",
    "df = df[df['table_name'].notnull() & df.table_name.str.startswith('B0409')]\n",
    "b_DDWCITY_B_09_clean_path=\"/Users/mthipparthi/PycharmProjects/census/data/cleaned_data/B-series/DDWCITY-B-09-0000.xlsx\"\n",
    "df.to_excel(b_DDWCITY_B_09_clean_path)"
   ]
  },
  {
   "cell_type": "code",
   "execution_count": 40,
   "metadata": {
    "collapsed": true
   },
   "outputs": [],
   "source": [
    "\n",
    "import pandas as pd\n",
    "b_DDWCT_0000B_01=\"/Users/mthipparthi/PycharmProjects/census/data/B-series/DDWCT-0000B-01.xls\"\n",
    "\n",
    "\n",
    "columns = [\n",
    "'table_name', 'state_code', 'town_code', 'town_name', 'type', 'age_group',\n",
    "'total_population', 'total_population_male', 'total_population_female',\n",
    "'total_main_workers','total_main_workers_male', 'total_main_workers_female',\n",
    "'total_marginal_less_than_3_months','total_marginal_workers_less_than_3_months_male', 'total_marginal_workers_less_than_3_months_female',\n",
    "'total_marginal_workers_3_to_6_months','total_marginal_workers_3_to_6_months_male', 'total_marginal_workers_3_to_6_months_female',\n",
    "'total_marginal_workers_seeking','total_marginal_workers_male_seeking', 'total_marginal_workers_female_seeking',\n",
    "'total_non_workers','total_non_workers_male', 'total_non_workers_female',\n",
    "'total_non_workers_seeking','total_non_workers_male_seeking', 'total_non_workers_female_seeking',\n",
    " ]\n",
    "\n",
    "df = pd.read_excel(b_DDWCT_0000B_01, header=1)\n",
    "df.columns = columns\n",
    "df = df[df.table_name.notnull() & df.table_name.str.startswith('B0101')]\n",
    "b_b_DDWCT_0000B_01_clean_path=\"/Users/mthipparthi/PycharmProjects/census/data/cleaned_data/B-series/DDWCT-0000B-01.xls\"\n",
    "df.to_excel(b_b_DDWCT_0000B_01_clean_path)"
   ]
  },
  {
   "cell_type": "code",
   "execution_count": null,
   "metadata": {
    "collapsed": true
   },
   "outputs": [],
   "source": []
  }
 ],
 "metadata": {
  "anaconda-cloud": {},
  "kernelspec": {
   "display_name": "Python [Root]",
   "language": "python",
   "name": "Python [Root]"
  },
  "language_info": {
   "codemirror_mode": {
    "name": "ipython",
    "version": 3
   },
   "file_extension": ".py",
   "mimetype": "text/x-python",
   "name": "python",
   "nbconvert_exporter": "python",
   "pygments_lexer": "ipython3",
   "version": "3.5.2"
  }
 },
 "nbformat": 4,
 "nbformat_minor": 0
}
