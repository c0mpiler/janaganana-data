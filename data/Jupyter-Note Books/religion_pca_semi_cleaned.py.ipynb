{
 "cells": [
  {
   "cell_type": "code",
   "execution_count": 110,
   "metadata": {
    "collapsed": true
   },
   "outputs": [],
   "source": [
    "file_path=\"/Users/mthipparthi/PycharmProjects/janaganana-data/data/religion_pca_semi_cleaned.csv\"\n",
    "\n",
    "# Reading csv file for pca data\n",
    "import pandas as pd\n",
    "df = pd.read_csv(file_path)"
   ]
  },
  {
   "cell_type": "code",
   "execution_count": 111,
   "metadata": {
    "collapsed": false
   },
   "outputs": [
    {
     "data": {
      "text/html": [
       "<div>\n",
       "<table border=\"1\" class=\"dataframe\">\n",
       "  <thead>\n",
       "    <tr style=\"text-align: right;\">\n",
       "      <th></th>\n",
       "      <th>Unnamed: 0</th>\n",
       "      <th>State</th>\n",
       "      <th>District</th>\n",
       "      <th>Subdistt</th>\n",
       "      <th>Town/Village</th>\n",
       "      <th>TRU</th>\n",
       "      <th>Name</th>\n",
       "      <th>Religion</th>\n",
       "      <th>TOT_P</th>\n",
       "      <th>TOT_M</th>\n",
       "      <th>...</th>\n",
       "      <th>MARG_AL_0_3_F</th>\n",
       "      <th>MARG_HH_0_3_P</th>\n",
       "      <th>MARG_HH_0_3_M</th>\n",
       "      <th>MARG_HH_0_3_F</th>\n",
       "      <th>MARG_OT_0_3_P</th>\n",
       "      <th>MARG_OT_0_3_M</th>\n",
       "      <th>MARG_OT_0_3_F</th>\n",
       "      <th>NON_WORK_P</th>\n",
       "      <th>NON_WORK_M</th>\n",
       "      <th>NON_WORK_F</th>\n",
       "    </tr>\n",
       "  </thead>\n",
       "  <tbody>\n",
       "    <tr>\n",
       "      <th>0</th>\n",
       "      <td>0</td>\n",
       "      <td>0</td>\n",
       "      <td>0</td>\n",
       "      <td>0</td>\n",
       "      <td>0</td>\n",
       "      <td>Total</td>\n",
       "      <td>india</td>\n",
       "      <td>Total</td>\n",
       "      <td>1210854977</td>\n",
       "      <td>623270258</td>\n",
       "      <td>...</td>\n",
       "      <td>5820403</td>\n",
       "      <td>1420348</td>\n",
       "      <td>491424</td>\n",
       "      <td>928924</td>\n",
       "      <td>5518450</td>\n",
       "      <td>3082613</td>\n",
       "      <td>2435837</td>\n",
       "      <td>728966109</td>\n",
       "      <td>291330383</td>\n",
       "      <td>437635726</td>\n",
       "    </tr>\n",
       "    <tr>\n",
       "      <th>1</th>\n",
       "      <td>1</td>\n",
       "      <td>0</td>\n",
       "      <td>0</td>\n",
       "      <td>0</td>\n",
       "      <td>0</td>\n",
       "      <td>Total</td>\n",
       "      <td>india</td>\n",
       "      <td>Hindu</td>\n",
       "      <td>966257353</td>\n",
       "      <td>498306968</td>\n",
       "      <td>...</td>\n",
       "      <td>4990261</td>\n",
       "      <td>1052248</td>\n",
       "      <td>374549</td>\n",
       "      <td>677699</td>\n",
       "      <td>4263250</td>\n",
       "      <td>2346372</td>\n",
       "      <td>1916878</td>\n",
       "      <td>569672513</td>\n",
       "      <td>229685436</td>\n",
       "      <td>339987077</td>\n",
       "    </tr>\n",
       "    <tr>\n",
       "      <th>2</th>\n",
       "      <td>2</td>\n",
       "      <td>0</td>\n",
       "      <td>0</td>\n",
       "      <td>0</td>\n",
       "      <td>0</td>\n",
       "      <td>Total</td>\n",
       "      <td>india</td>\n",
       "      <td>Muslim</td>\n",
       "      <td>172245158</td>\n",
       "      <td>88273945</td>\n",
       "      <td>...</td>\n",
       "      <td>503064</td>\n",
       "      <td>300836</td>\n",
       "      <td>94229</td>\n",
       "      <td>206607</td>\n",
       "      <td>874274</td>\n",
       "      <td>542091</td>\n",
       "      <td>332183</td>\n",
       "      <td>116139359</td>\n",
       "      <td>44572059</td>\n",
       "      <td>71567300</td>\n",
       "    </tr>\n",
       "    <tr>\n",
       "      <th>3</th>\n",
       "      <td>3</td>\n",
       "      <td>0</td>\n",
       "      <td>0</td>\n",
       "      <td>0</td>\n",
       "      <td>0</td>\n",
       "      <td>Total</td>\n",
       "      <td>india</td>\n",
       "      <td>Christian</td>\n",
       "      <td>27819588</td>\n",
       "      <td>13751031</td>\n",
       "      <td>...</td>\n",
       "      <td>94337</td>\n",
       "      <td>26977</td>\n",
       "      <td>9353</td>\n",
       "      <td>17624</td>\n",
       "      <td>179935</td>\n",
       "      <td>88097</td>\n",
       "      <td>91838</td>\n",
       "      <td>16161075</td>\n",
       "      <td>6476300</td>\n",
       "      <td>9684775</td>\n",
       "    </tr>\n",
       "    <tr>\n",
       "      <th>4</th>\n",
       "      <td>4</td>\n",
       "      <td>0</td>\n",
       "      <td>0</td>\n",
       "      <td>0</td>\n",
       "      <td>0</td>\n",
       "      <td>Total</td>\n",
       "      <td>india</td>\n",
       "      <td>Sikh</td>\n",
       "      <td>20833116</td>\n",
       "      <td>10948431</td>\n",
       "      <td>...</td>\n",
       "      <td>59022</td>\n",
       "      <td>15417</td>\n",
       "      <td>5551</td>\n",
       "      <td>9866</td>\n",
       "      <td>89382</td>\n",
       "      <td>47003</td>\n",
       "      <td>42379</td>\n",
       "      <td>13265927</td>\n",
       "      <td>4880013</td>\n",
       "      <td>8385914</td>\n",
       "    </tr>\n",
       "  </tbody>\n",
       "</table>\n",
       "<p>5 rows × 86 columns</p>\n",
       "</div>"
      ],
      "text/plain": [
       "   Unnamed: 0  State  District  Subdistt  Town/Village    TRU   Name  \\\n",
       "0           0      0         0         0             0  Total  india   \n",
       "1           1      0         0         0             0  Total  india   \n",
       "2           2      0         0         0             0  Total  india   \n",
       "3           3      0         0         0             0  Total  india   \n",
       "4           4      0         0         0             0  Total  india   \n",
       "\n",
       "    Religion       TOT_P      TOT_M     ...      MARG_AL_0_3_F  MARG_HH_0_3_P  \\\n",
       "0      Total  1210854977  623270258     ...            5820403        1420348   \n",
       "1      Hindu   966257353  498306968     ...            4990261        1052248   \n",
       "2     Muslim   172245158   88273945     ...             503064         300836   \n",
       "3  Christian    27819588   13751031     ...              94337          26977   \n",
       "4       Sikh    20833116   10948431     ...              59022          15417   \n",
       "\n",
       "   MARG_HH_0_3_M  MARG_HH_0_3_F  MARG_OT_0_3_P  MARG_OT_0_3_M  MARG_OT_0_3_F  \\\n",
       "0         491424         928924        5518450        3082613        2435837   \n",
       "1         374549         677699        4263250        2346372        1916878   \n",
       "2          94229         206607         874274         542091         332183   \n",
       "3           9353          17624         179935          88097          91838   \n",
       "4           5551           9866          89382          47003          42379   \n",
       "\n",
       "   NON_WORK_P  NON_WORK_M  NON_WORK_F  \n",
       "0   728966109   291330383   437635726  \n",
       "1   569672513   229685436   339987077  \n",
       "2   116139359    44572059    71567300  \n",
       "3    16161075     6476300     9684775  \n",
       "4    13265927     4880013     8385914  \n",
       "\n",
       "[5 rows x 86 columns]"
      ]
     },
     "execution_count": 111,
     "metadata": {},
     "output_type": "execute_result"
    }
   ],
   "source": [
    "df.head(5)"
   ]
  },
  {
   "cell_type": "code",
   "execution_count": 112,
   "metadata": {
    "collapsed": true
   },
   "outputs": [],
   "source": [
    "# Plucking out only \"Rural\" and \"Urban\" data as \"Total\" can be calculated\n",
    "df = df[(df.TRU == \"Rural\") | (df.TRU == \"Urban\")]"
   ]
  },
  {
   "cell_type": "code",
   "execution_count": 113,
   "metadata": {
    "collapsed": false
   },
   "outputs": [
    {
     "data": {
      "text/html": [
       "<div>\n",
       "<table border=\"1\" class=\"dataframe\">\n",
       "  <thead>\n",
       "    <tr style=\"text-align: right;\">\n",
       "      <th></th>\n",
       "      <th>Unnamed: 0</th>\n",
       "      <th>State</th>\n",
       "      <th>District</th>\n",
       "      <th>Subdistt</th>\n",
       "      <th>Town/Village</th>\n",
       "      <th>TRU</th>\n",
       "      <th>Name</th>\n",
       "      <th>Religion</th>\n",
       "      <th>TOT_P</th>\n",
       "      <th>TOT_M</th>\n",
       "      <th>...</th>\n",
       "      <th>MARG_AL_0_3_F</th>\n",
       "      <th>MARG_HH_0_3_P</th>\n",
       "      <th>MARG_HH_0_3_M</th>\n",
       "      <th>MARG_HH_0_3_F</th>\n",
       "      <th>MARG_OT_0_3_P</th>\n",
       "      <th>MARG_OT_0_3_M</th>\n",
       "      <th>MARG_OT_0_3_F</th>\n",
       "      <th>NON_WORK_P</th>\n",
       "      <th>NON_WORK_M</th>\n",
       "      <th>NON_WORK_F</th>\n",
       "    </tr>\n",
       "  </thead>\n",
       "  <tbody>\n",
       "    <tr>\n",
       "      <th>9</th>\n",
       "      <td>9</td>\n",
       "      <td>0</td>\n",
       "      <td>0</td>\n",
       "      <td>0</td>\n",
       "      <td>0</td>\n",
       "      <td>Rural</td>\n",
       "      <td>india</td>\n",
       "      <td>Total</td>\n",
       "      <td>833748852</td>\n",
       "      <td>427781058</td>\n",
       "      <td>...</td>\n",
       "      <td>5640822</td>\n",
       "      <td>1154975</td>\n",
       "      <td>386077</td>\n",
       "      <td>768898</td>\n",
       "      <td>3803400</td>\n",
       "      <td>1972348</td>\n",
       "      <td>1831052</td>\n",
       "      <td>485005760</td>\n",
       "      <td>200944045</td>\n",
       "      <td>284061715</td>\n",
       "    </tr>\n",
       "    <tr>\n",
       "      <th>10</th>\n",
       "      <td>10</td>\n",
       "      <td>0</td>\n",
       "      <td>0</td>\n",
       "      <td>0</td>\n",
       "      <td>0</td>\n",
       "      <td>Rural</td>\n",
       "      <td>india</td>\n",
       "      <td>Hindu</td>\n",
       "      <td>684093951</td>\n",
       "      <td>351423647</td>\n",
       "      <td>...</td>\n",
       "      <td>4842221</td>\n",
       "      <td>880266</td>\n",
       "      <td>304822</td>\n",
       "      <td>575444</td>\n",
       "      <td>3004803</td>\n",
       "      <td>1545017</td>\n",
       "      <td>1459786</td>\n",
       "      <td>389664122</td>\n",
       "      <td>162970261</td>\n",
       "      <td>226693861</td>\n",
       "    </tr>\n",
       "    <tr>\n",
       "      <th>11</th>\n",
       "      <td>11</td>\n",
       "      <td>0</td>\n",
       "      <td>0</td>\n",
       "      <td>0</td>\n",
       "      <td>0</td>\n",
       "      <td>Rural</td>\n",
       "      <td>india</td>\n",
       "      <td>Muslim</td>\n",
       "      <td>103504739</td>\n",
       "      <td>52870001</td>\n",
       "      <td>...</td>\n",
       "      <td>482261</td>\n",
       "      <td>220688</td>\n",
       "      <td>63611</td>\n",
       "      <td>157077</td>\n",
       "      <td>533657</td>\n",
       "      <td>300874</td>\n",
       "      <td>232783</td>\n",
       "      <td>68938761</td>\n",
       "      <td>27140311</td>\n",
       "      <td>41798450</td>\n",
       "    </tr>\n",
       "    <tr>\n",
       "      <th>12</th>\n",
       "      <td>12</td>\n",
       "      <td>0</td>\n",
       "      <td>0</td>\n",
       "      <td>0</td>\n",
       "      <td>0</td>\n",
       "      <td>Rural</td>\n",
       "      <td>india</td>\n",
       "      <td>Christian</td>\n",
       "      <td>16657065</td>\n",
       "      <td>8295745</td>\n",
       "      <td>...</td>\n",
       "      <td>89403</td>\n",
       "      <td>20460</td>\n",
       "      <td>7030</td>\n",
       "      <td>13430</td>\n",
       "      <td>116605</td>\n",
       "      <td>53786</td>\n",
       "      <td>62819</td>\n",
       "      <td>9257842</td>\n",
       "      <td>3892377</td>\n",
       "      <td>5365465</td>\n",
       "    </tr>\n",
       "    <tr>\n",
       "      <th>13</th>\n",
       "      <td>13</td>\n",
       "      <td>0</td>\n",
       "      <td>0</td>\n",
       "      <td>0</td>\n",
       "      <td>0</td>\n",
       "      <td>Rural</td>\n",
       "      <td>india</td>\n",
       "      <td>Sikh</td>\n",
       "      <td>14930792</td>\n",
       "      <td>7839048</td>\n",
       "      <td>...</td>\n",
       "      <td>57311</td>\n",
       "      <td>13066</td>\n",
       "      <td>4471</td>\n",
       "      <td>8595</td>\n",
       "      <td>72271</td>\n",
       "      <td>35151</td>\n",
       "      <td>37120</td>\n",
       "      <td>9427224</td>\n",
       "      <td>3467217</td>\n",
       "      <td>5960007</td>\n",
       "    </tr>\n",
       "  </tbody>\n",
       "</table>\n",
       "<p>5 rows × 86 columns</p>\n",
       "</div>"
      ],
      "text/plain": [
       "    Unnamed: 0  State  District  Subdistt  Town/Village    TRU   Name  \\\n",
       "9            9      0         0         0             0  Rural  india   \n",
       "10          10      0         0         0             0  Rural  india   \n",
       "11          11      0         0         0             0  Rural  india   \n",
       "12          12      0         0         0             0  Rural  india   \n",
       "13          13      0         0         0             0  Rural  india   \n",
       "\n",
       "     Religion      TOT_P      TOT_M     ...      MARG_AL_0_3_F  MARG_HH_0_3_P  \\\n",
       "9       Total  833748852  427781058     ...            5640822        1154975   \n",
       "10      Hindu  684093951  351423647     ...            4842221         880266   \n",
       "11     Muslim  103504739   52870001     ...             482261         220688   \n",
       "12  Christian   16657065    8295745     ...              89403          20460   \n",
       "13       Sikh   14930792    7839048     ...              57311          13066   \n",
       "\n",
       "    MARG_HH_0_3_M  MARG_HH_0_3_F  MARG_OT_0_3_P  MARG_OT_0_3_M  MARG_OT_0_3_F  \\\n",
       "9          386077         768898        3803400        1972348        1831052   \n",
       "10         304822         575444        3004803        1545017        1459786   \n",
       "11          63611         157077         533657         300874         232783   \n",
       "12           7030          13430         116605          53786          62819   \n",
       "13           4471           8595          72271          35151          37120   \n",
       "\n",
       "    NON_WORK_P  NON_WORK_M  NON_WORK_F  \n",
       "9    485005760   200944045   284061715  \n",
       "10   389664122   162970261   226693861  \n",
       "11    68938761    27140311    41798450  \n",
       "12     9257842     3892377     5365465  \n",
       "13     9427224     3467217     5960007  \n",
       "\n",
       "[5 rows x 86 columns]"
      ]
     },
     "execution_count": 113,
     "metadata": {},
     "output_type": "execute_result"
    }
   ],
   "source": [
    "df.head(5)"
   ]
  },
  {
   "cell_type": "code",
   "execution_count": 114,
   "metadata": {
    "collapsed": false
   },
   "outputs": [],
   "source": [
    "interested_columns=['State', 'District', 'TRU', 'Name', 'Religion', 'TOT_M', 'TOT_F']\n",
    "\n",
    "df=df[interested_columns]"
   ]
  },
  {
   "cell_type": "code",
   "execution_count": 115,
   "metadata": {
    "collapsed": false
   },
   "outputs": [
    {
     "data": {
      "text/html": [
       "<div>\n",
       "<table border=\"1\" class=\"dataframe\">\n",
       "  <thead>\n",
       "    <tr style=\"text-align: right;\">\n",
       "      <th></th>\n",
       "      <th>State</th>\n",
       "      <th>District</th>\n",
       "      <th>TRU</th>\n",
       "      <th>Name</th>\n",
       "      <th>Religion</th>\n",
       "      <th>TOT_M</th>\n",
       "      <th>TOT_F</th>\n",
       "    </tr>\n",
       "  </thead>\n",
       "  <tbody>\n",
       "    <tr>\n",
       "      <th>19187</th>\n",
       "      <td>35</td>\n",
       "      <td>640</td>\n",
       "      <td>Rural</td>\n",
       "      <td>district - south andaman</td>\n",
       "      <td>Religion not stated</td>\n",
       "      <td>152</td>\n",
       "      <td>177</td>\n",
       "    </tr>\n",
       "    <tr>\n",
       "      <th>19188</th>\n",
       "      <td>35</td>\n",
       "      <td>640</td>\n",
       "      <td>Urban</td>\n",
       "      <td>district - south andaman</td>\n",
       "      <td>Total</td>\n",
       "      <td>75180</td>\n",
       "      <td>65567</td>\n",
       "    </tr>\n",
       "    <tr>\n",
       "      <th>19189</th>\n",
       "      <td>35</td>\n",
       "      <td>640</td>\n",
       "      <td>Urban</td>\n",
       "      <td>district - south andaman</td>\n",
       "      <td>Hindu</td>\n",
       "      <td>56591</td>\n",
       "      <td>48405</td>\n",
       "    </tr>\n",
       "    <tr>\n",
       "      <th>19190</th>\n",
       "      <td>35</td>\n",
       "      <td>640</td>\n",
       "      <td>Urban</td>\n",
       "      <td>district - south andaman</td>\n",
       "      <td>Muslim</td>\n",
       "      <td>9304</td>\n",
       "      <td>7951</td>\n",
       "    </tr>\n",
       "    <tr>\n",
       "      <th>19191</th>\n",
       "      <td>35</td>\n",
       "      <td>640</td>\n",
       "      <td>Urban</td>\n",
       "      <td>district - south andaman</td>\n",
       "      <td>Christian</td>\n",
       "      <td>8780</td>\n",
       "      <td>8759</td>\n",
       "    </tr>\n",
       "    <tr>\n",
       "      <th>19192</th>\n",
       "      <td>35</td>\n",
       "      <td>640</td>\n",
       "      <td>Urban</td>\n",
       "      <td>district - south andaman</td>\n",
       "      <td>Sikh</td>\n",
       "      <td>343</td>\n",
       "      <td>294</td>\n",
       "    </tr>\n",
       "    <tr>\n",
       "      <th>19193</th>\n",
       "      <td>35</td>\n",
       "      <td>640</td>\n",
       "      <td>Urban</td>\n",
       "      <td>district - south andaman</td>\n",
       "      <td>Buddhist</td>\n",
       "      <td>35</td>\n",
       "      <td>36</td>\n",
       "    </tr>\n",
       "    <tr>\n",
       "      <th>19194</th>\n",
       "      <td>35</td>\n",
       "      <td>640</td>\n",
       "      <td>Urban</td>\n",
       "      <td>district - south andaman</td>\n",
       "      <td>Jain</td>\n",
       "      <td>6</td>\n",
       "      <td>11</td>\n",
       "    </tr>\n",
       "    <tr>\n",
       "      <th>19195</th>\n",
       "      <td>35</td>\n",
       "      <td>640</td>\n",
       "      <td>Urban</td>\n",
       "      <td>district - south andaman</td>\n",
       "      <td>Other religions and persuasions</td>\n",
       "      <td>64</td>\n",
       "      <td>53</td>\n",
       "    </tr>\n",
       "    <tr>\n",
       "      <th>19196</th>\n",
       "      <td>35</td>\n",
       "      <td>640</td>\n",
       "      <td>Urban</td>\n",
       "      <td>district - south andaman</td>\n",
       "      <td>Religion not stated</td>\n",
       "      <td>57</td>\n",
       "      <td>58</td>\n",
       "    </tr>\n",
       "  </tbody>\n",
       "</table>\n",
       "</div>"
      ],
      "text/plain": [
       "       State  District    TRU                      Name  \\\n",
       "19187     35       640  Rural  district - south andaman   \n",
       "19188     35       640  Urban  district - south andaman   \n",
       "19189     35       640  Urban  district - south andaman   \n",
       "19190     35       640  Urban  district - south andaman   \n",
       "19191     35       640  Urban  district - south andaman   \n",
       "19192     35       640  Urban  district - south andaman   \n",
       "19193     35       640  Urban  district - south andaman   \n",
       "19194     35       640  Urban  district - south andaman   \n",
       "19195     35       640  Urban  district - south andaman   \n",
       "19196     35       640  Urban  district - south andaman   \n",
       "\n",
       "                              Religion  TOT_M  TOT_F  \n",
       "19187              Religion not stated    152    177  \n",
       "19188                            Total  75180  65567  \n",
       "19189                            Hindu  56591  48405  \n",
       "19190                           Muslim   9304   7951  \n",
       "19191                        Christian   8780   8759  \n",
       "19192                             Sikh    343    294  \n",
       "19193                         Buddhist     35     36  \n",
       "19194                             Jain      6     11  \n",
       "19195  Other religions and persuasions     64     53  \n",
       "19196              Religion not stated     57     58  "
      ]
     },
     "execution_count": 115,
     "metadata": {},
     "output_type": "execute_result"
    }
   ],
   "source": [
    "df.tail(10)"
   ]
  },
  {
   "cell_type": "code",
   "execution_count": 116,
   "metadata": {
    "collapsed": false
   },
   "outputs": [
    {
     "data": {
      "text/plain": [
       "State               0\n",
       "District            0\n",
       "TRU             Urban\n",
       "Name            india\n",
       "Religion        Total\n",
       "TOT_M       195489200\n",
       "TOT_F       181616925\n",
       "Name: 18, dtype: object"
      ]
     },
     "execution_count": 116,
     "metadata": {},
     "output_type": "execute_result"
    }
   ],
   "source": [
    "es= df.iloc[9]\n",
    "es"
   ]
  },
  {
   "cell_type": "code",
   "execution_count": 117,
   "metadata": {
    "collapsed": false
   },
   "outputs": [],
   "source": [
    "def func(ds):\n",
    "    if ds.Name.startswith('district') == 0:\n",
    "        ds['geo_code'] = ds.State\n",
    "    else:\n",
    "        ds['geo_code'] = ds.District\n",
    "        \n",
    "    if ds.Name == 'india':\n",
    "        ds['geo_level'] = 'country'\n",
    "        ds['geo_code'] = 'IN'\n",
    "    elif ds.Name.startswith('district'):\n",
    "        ds['geo_level'] = 'district'\n",
    "    elif ds.Name.startswith('state'):\n",
    "        ds['geo_level'] = 'state'   \n",
    "    return ds\n",
    "\n",
    "df=df.apply(func, axis=1)"
   ]
  },
  {
   "cell_type": "code",
   "execution_count": 118,
   "metadata": {
    "collapsed": false
   },
   "outputs": [
    {
     "data": {
      "text/html": [
       "<div>\n",
       "<table border=\"1\" class=\"dataframe\">\n",
       "  <thead>\n",
       "    <tr style=\"text-align: right;\">\n",
       "      <th></th>\n",
       "      <th>State</th>\n",
       "      <th>District</th>\n",
       "      <th>TRU</th>\n",
       "      <th>Name</th>\n",
       "      <th>Religion</th>\n",
       "      <th>TOT_M</th>\n",
       "      <th>TOT_F</th>\n",
       "      <th>geo_code</th>\n",
       "      <th>geo_level</th>\n",
       "    </tr>\n",
       "  </thead>\n",
       "  <tbody>\n",
       "    <tr>\n",
       "      <th>9</th>\n",
       "      <td>0</td>\n",
       "      <td>0</td>\n",
       "      <td>Rural</td>\n",
       "      <td>india</td>\n",
       "      <td>Total</td>\n",
       "      <td>427781058</td>\n",
       "      <td>405967794</td>\n",
       "      <td>IN</td>\n",
       "      <td>country</td>\n",
       "    </tr>\n",
       "    <tr>\n",
       "      <th>10</th>\n",
       "      <td>0</td>\n",
       "      <td>0</td>\n",
       "      <td>Rural</td>\n",
       "      <td>india</td>\n",
       "      <td>Hindu</td>\n",
       "      <td>351423647</td>\n",
       "      <td>332670304</td>\n",
       "      <td>IN</td>\n",
       "      <td>country</td>\n",
       "    </tr>\n",
       "    <tr>\n",
       "      <th>11</th>\n",
       "      <td>0</td>\n",
       "      <td>0</td>\n",
       "      <td>Rural</td>\n",
       "      <td>india</td>\n",
       "      <td>Muslim</td>\n",
       "      <td>52870001</td>\n",
       "      <td>50634738</td>\n",
       "      <td>IN</td>\n",
       "      <td>country</td>\n",
       "    </tr>\n",
       "    <tr>\n",
       "      <th>12</th>\n",
       "      <td>0</td>\n",
       "      <td>0</td>\n",
       "      <td>Rural</td>\n",
       "      <td>india</td>\n",
       "      <td>Christian</td>\n",
       "      <td>8295745</td>\n",
       "      <td>8361320</td>\n",
       "      <td>IN</td>\n",
       "      <td>country</td>\n",
       "    </tr>\n",
       "    <tr>\n",
       "      <th>13</th>\n",
       "      <td>0</td>\n",
       "      <td>0</td>\n",
       "      <td>Rural</td>\n",
       "      <td>india</td>\n",
       "      <td>Sikh</td>\n",
       "      <td>7839048</td>\n",
       "      <td>7091744</td>\n",
       "      <td>IN</td>\n",
       "      <td>country</td>\n",
       "    </tr>\n",
       "  </tbody>\n",
       "</table>\n",
       "</div>"
      ],
      "text/plain": [
       "    State  District    TRU   Name   Religion      TOT_M      TOT_F geo_code  \\\n",
       "9       0         0  Rural  india      Total  427781058  405967794       IN   \n",
       "10      0         0  Rural  india      Hindu  351423647  332670304       IN   \n",
       "11      0         0  Rural  india     Muslim   52870001   50634738       IN   \n",
       "12      0         0  Rural  india  Christian    8295745    8361320       IN   \n",
       "13      0         0  Rural  india       Sikh    7839048    7091744       IN   \n",
       "\n",
       "   geo_level  \n",
       "9    country  \n",
       "10   country  \n",
       "11   country  \n",
       "12   country  \n",
       "13   country  "
      ]
     },
     "execution_count": 118,
     "metadata": {},
     "output_type": "execute_result"
    }
   ],
   "source": [
    "df.head(5)"
   ]
  },
  {
   "cell_type": "code",
   "execution_count": 119,
   "metadata": {
    "collapsed": false
   },
   "outputs": [
    {
     "data": {
      "text/plain": [
       "Index(['State', 'District', 'TRU', 'Name', 'Religion', 'TOT_M', 'TOT_F',\n",
       "       'geo_code', 'geo_level'],\n",
       "      dtype='object')"
      ]
     },
     "execution_count": 119,
     "metadata": {},
     "output_type": "execute_result"
    }
   ],
   "source": [
    "df.columns"
   ]
  },
  {
   "cell_type": "code",
   "execution_count": 120,
   "metadata": {
    "collapsed": false
   },
   "outputs": [],
   "source": [
    "in_columns=['geo_code', 'geo_level', 'Religion', 'TRU', 'TOT_M', 'TOT_F']\n",
    "df=df[in_columns]"
   ]
  },
  {
   "cell_type": "code",
   "execution_count": 121,
   "metadata": {
    "collapsed": false
   },
   "outputs": [
    {
     "data": {
      "text/html": [
       "<div>\n",
       "<table border=\"1\" class=\"dataframe\">\n",
       "  <thead>\n",
       "    <tr style=\"text-align: right;\">\n",
       "      <th></th>\n",
       "      <th>geo_code</th>\n",
       "      <th>geo_level</th>\n",
       "      <th>Religion</th>\n",
       "      <th>TRU</th>\n",
       "      <th>TOT_M</th>\n",
       "      <th>TOT_F</th>\n",
       "    </tr>\n",
       "  </thead>\n",
       "  <tbody>\n",
       "    <tr>\n",
       "      <th>9</th>\n",
       "      <td>IN</td>\n",
       "      <td>country</td>\n",
       "      <td>Total</td>\n",
       "      <td>Rural</td>\n",
       "      <td>427781058</td>\n",
       "      <td>405967794</td>\n",
       "    </tr>\n",
       "    <tr>\n",
       "      <th>10</th>\n",
       "      <td>IN</td>\n",
       "      <td>country</td>\n",
       "      <td>Hindu</td>\n",
       "      <td>Rural</td>\n",
       "      <td>351423647</td>\n",
       "      <td>332670304</td>\n",
       "    </tr>\n",
       "    <tr>\n",
       "      <th>11</th>\n",
       "      <td>IN</td>\n",
       "      <td>country</td>\n",
       "      <td>Muslim</td>\n",
       "      <td>Rural</td>\n",
       "      <td>52870001</td>\n",
       "      <td>50634738</td>\n",
       "    </tr>\n",
       "    <tr>\n",
       "      <th>12</th>\n",
       "      <td>IN</td>\n",
       "      <td>country</td>\n",
       "      <td>Christian</td>\n",
       "      <td>Rural</td>\n",
       "      <td>8295745</td>\n",
       "      <td>8361320</td>\n",
       "    </tr>\n",
       "    <tr>\n",
       "      <th>13</th>\n",
       "      <td>IN</td>\n",
       "      <td>country</td>\n",
       "      <td>Sikh</td>\n",
       "      <td>Rural</td>\n",
       "      <td>7839048</td>\n",
       "      <td>7091744</td>\n",
       "    </tr>\n",
       "  </tbody>\n",
       "</table>\n",
       "</div>"
      ],
      "text/plain": [
       "   geo_code geo_level   Religion    TRU      TOT_M      TOT_F\n",
       "9        IN   country      Total  Rural  427781058  405967794\n",
       "10       IN   country      Hindu  Rural  351423647  332670304\n",
       "11       IN   country     Muslim  Rural   52870001   50634738\n",
       "12       IN   country  Christian  Rural    8295745    8361320\n",
       "13       IN   country       Sikh  Rural    7839048    7091744"
      ]
     },
     "execution_count": 121,
     "metadata": {},
     "output_type": "execute_result"
    }
   ],
   "source": [
    "df.head(5)"
   ]
  },
  {
   "cell_type": "code",
   "execution_count": 122,
   "metadata": {
    "collapsed": false
   },
   "outputs": [
    {
     "data": {
      "text/html": [
       "<div>\n",
       "<table border=\"1\" class=\"dataframe\">\n",
       "  <thead>\n",
       "    <tr style=\"text-align: right;\">\n",
       "      <th></th>\n",
       "      <th>geo_code</th>\n",
       "      <th>geo_level</th>\n",
       "      <th>Religion</th>\n",
       "      <th>TRU</th>\n",
       "      <th>Total</th>\n",
       "      <th>Sex</th>\n",
       "    </tr>\n",
       "  </thead>\n",
       "  <tbody>\n",
       "    <tr>\n",
       "      <th>9</th>\n",
       "      <td>IN</td>\n",
       "      <td>country</td>\n",
       "      <td>Total</td>\n",
       "      <td>Rural</td>\n",
       "      <td>405967794</td>\n",
       "      <td>Female</td>\n",
       "    </tr>\n",
       "    <tr>\n",
       "      <th>10</th>\n",
       "      <td>IN</td>\n",
       "      <td>country</td>\n",
       "      <td>Hindu</td>\n",
       "      <td>Rural</td>\n",
       "      <td>332670304</td>\n",
       "      <td>Female</td>\n",
       "    </tr>\n",
       "    <tr>\n",
       "      <th>11</th>\n",
       "      <td>IN</td>\n",
       "      <td>country</td>\n",
       "      <td>Muslim</td>\n",
       "      <td>Rural</td>\n",
       "      <td>50634738</td>\n",
       "      <td>Female</td>\n",
       "    </tr>\n",
       "    <tr>\n",
       "      <th>12</th>\n",
       "      <td>IN</td>\n",
       "      <td>country</td>\n",
       "      <td>Christian</td>\n",
       "      <td>Rural</td>\n",
       "      <td>8361320</td>\n",
       "      <td>Female</td>\n",
       "    </tr>\n",
       "    <tr>\n",
       "      <th>13</th>\n",
       "      <td>IN</td>\n",
       "      <td>country</td>\n",
       "      <td>Sikh</td>\n",
       "      <td>Rural</td>\n",
       "      <td>7091744</td>\n",
       "      <td>Female</td>\n",
       "    </tr>\n",
       "  </tbody>\n",
       "</table>\n",
       "</div>"
      ],
      "text/plain": [
       "   geo_code geo_level   Religion    TRU      Total     Sex\n",
       "9        IN   country      Total  Rural  405967794  Female\n",
       "10       IN   country      Hindu  Rural  332670304  Female\n",
       "11       IN   country     Muslim  Rural   50634738  Female\n",
       "12       IN   country  Christian  Rural    8361320  Female\n",
       "13       IN   country       Sikh  Rural    7091744  Female"
      ]
     },
     "execution_count": 122,
     "metadata": {},
     "output_type": "execute_result"
    }
   ],
   "source": [
    "f_columns=['geo_code', 'geo_level', 'Religion','TRU','TOT_F']\n",
    "df_f = df[f_columns]\n",
    "df_f['Sex']='Female'\n",
    "# df_f.columns = ['geo_code', 'geo_level', 'Religion', 'total']\n",
    "df_f.rename(columns={'TOT_F':'Total'}, inplace=True)\n",
    "df_f.head(5)"
   ]
  },
  {
   "cell_type": "code",
   "execution_count": 123,
   "metadata": {
    "collapsed": false
   },
   "outputs": [
    {
     "data": {
      "text/html": [
       "<div>\n",
       "<table border=\"1\" class=\"dataframe\">\n",
       "  <thead>\n",
       "    <tr style=\"text-align: right;\">\n",
       "      <th></th>\n",
       "      <th>geo_code</th>\n",
       "      <th>geo_level</th>\n",
       "      <th>Religion</th>\n",
       "      <th>TRU</th>\n",
       "      <th>Total</th>\n",
       "      <th>Sex</th>\n",
       "    </tr>\n",
       "  </thead>\n",
       "  <tbody>\n",
       "    <tr>\n",
       "      <th>9</th>\n",
       "      <td>IN</td>\n",
       "      <td>country</td>\n",
       "      <td>Total</td>\n",
       "      <td>Rural</td>\n",
       "      <td>427781058</td>\n",
       "      <td>Male</td>\n",
       "    </tr>\n",
       "    <tr>\n",
       "      <th>10</th>\n",
       "      <td>IN</td>\n",
       "      <td>country</td>\n",
       "      <td>Hindu</td>\n",
       "      <td>Rural</td>\n",
       "      <td>351423647</td>\n",
       "      <td>Male</td>\n",
       "    </tr>\n",
       "    <tr>\n",
       "      <th>11</th>\n",
       "      <td>IN</td>\n",
       "      <td>country</td>\n",
       "      <td>Muslim</td>\n",
       "      <td>Rural</td>\n",
       "      <td>52870001</td>\n",
       "      <td>Male</td>\n",
       "    </tr>\n",
       "    <tr>\n",
       "      <th>12</th>\n",
       "      <td>IN</td>\n",
       "      <td>country</td>\n",
       "      <td>Christian</td>\n",
       "      <td>Rural</td>\n",
       "      <td>8295745</td>\n",
       "      <td>Male</td>\n",
       "    </tr>\n",
       "    <tr>\n",
       "      <th>13</th>\n",
       "      <td>IN</td>\n",
       "      <td>country</td>\n",
       "      <td>Sikh</td>\n",
       "      <td>Rural</td>\n",
       "      <td>7839048</td>\n",
       "      <td>Male</td>\n",
       "    </tr>\n",
       "  </tbody>\n",
       "</table>\n",
       "</div>"
      ],
      "text/plain": [
       "   geo_code geo_level   Religion    TRU      Total   Sex\n",
       "9        IN   country      Total  Rural  427781058  Male\n",
       "10       IN   country      Hindu  Rural  351423647  Male\n",
       "11       IN   country     Muslim  Rural   52870001  Male\n",
       "12       IN   country  Christian  Rural    8295745  Male\n",
       "13       IN   country       Sikh  Rural    7839048  Male"
      ]
     },
     "execution_count": 123,
     "metadata": {},
     "output_type": "execute_result"
    }
   ],
   "source": [
    "m_columns=['geo_code', 'geo_level', 'Religion','TRU', 'TOT_M']\n",
    "df_m = df[m_columns]\n",
    "df_m['Sex']='Male'\n",
    "# df_f.columns = ['geo_code', 'geo_level', 'Religion', 'total']\n",
    "df_m.rename(columns={'TOT_M':'Total'}, inplace=True)\n",
    "df_m.head(5)"
   ]
  },
  {
   "cell_type": "code",
   "execution_count": 124,
   "metadata": {
    "collapsed": false
   },
   "outputs": [
    {
     "data": {
      "text/html": [
       "<div>\n",
       "<table border=\"1\" class=\"dataframe\">\n",
       "  <thead>\n",
       "    <tr style=\"text-align: right;\">\n",
       "      <th></th>\n",
       "      <th>geo_code</th>\n",
       "      <th>geo_level</th>\n",
       "      <th>Religion</th>\n",
       "      <th>TRU</th>\n",
       "      <th>Total</th>\n",
       "      <th>Sex</th>\n",
       "    </tr>\n",
       "  </thead>\n",
       "  <tbody>\n",
       "    <tr>\n",
       "      <th>9</th>\n",
       "      <td>IN</td>\n",
       "      <td>country</td>\n",
       "      <td>Total</td>\n",
       "      <td>Rural</td>\n",
       "      <td>427781058</td>\n",
       "      <td>Male</td>\n",
       "    </tr>\n",
       "    <tr>\n",
       "      <th>10</th>\n",
       "      <td>IN</td>\n",
       "      <td>country</td>\n",
       "      <td>Hindu</td>\n",
       "      <td>Rural</td>\n",
       "      <td>351423647</td>\n",
       "      <td>Male</td>\n",
       "    </tr>\n",
       "    <tr>\n",
       "      <th>11</th>\n",
       "      <td>IN</td>\n",
       "      <td>country</td>\n",
       "      <td>Muslim</td>\n",
       "      <td>Rural</td>\n",
       "      <td>52870001</td>\n",
       "      <td>Male</td>\n",
       "    </tr>\n",
       "    <tr>\n",
       "      <th>12</th>\n",
       "      <td>IN</td>\n",
       "      <td>country</td>\n",
       "      <td>Christian</td>\n",
       "      <td>Rural</td>\n",
       "      <td>8295745</td>\n",
       "      <td>Male</td>\n",
       "    </tr>\n",
       "    <tr>\n",
       "      <th>13</th>\n",
       "      <td>IN</td>\n",
       "      <td>country</td>\n",
       "      <td>Sikh</td>\n",
       "      <td>Rural</td>\n",
       "      <td>7839048</td>\n",
       "      <td>Male</td>\n",
       "    </tr>\n",
       "  </tbody>\n",
       "</table>\n",
       "</div>"
      ],
      "text/plain": [
       "   geo_code geo_level   Religion    TRU      Total   Sex\n",
       "9        IN   country      Total  Rural  427781058  Male\n",
       "10       IN   country      Hindu  Rural  351423647  Male\n",
       "11       IN   country     Muslim  Rural   52870001  Male\n",
       "12       IN   country  Christian  Rural    8295745  Male\n",
       "13       IN   country       Sikh  Rural    7839048  Male"
      ]
     },
     "execution_count": 124,
     "metadata": {},
     "output_type": "execute_result"
    }
   ],
   "source": [
    "result = pd.concat([df_m, df_f])\n",
    "result.head(5)"
   ]
  },
  {
   "cell_type": "code",
   "execution_count": 125,
   "metadata": {
    "collapsed": false
   },
   "outputs": [
    {
     "data": {
      "text/plain": [
       "Index(['geo_code', 'geo_level', 'Religion', 'TRU', 'Total', 'Sex'], dtype='object')"
      ]
     },
     "execution_count": 125,
     "metadata": {},
     "output_type": "execute_result"
    }
   ],
   "source": [
    "result.columns"
   ]
  },
  {
   "cell_type": "code",
   "execution_count": 126,
   "metadata": {
    "collapsed": false
   },
   "outputs": [
    {
     "name": "stdout",
     "output_type": "stream",
     "text": [
      "25596 22752\n"
     ]
    }
   ],
   "source": [
    "cls= ['geo_code', 'geo_level', 'Religion', 'TRU', 'Sex', 'Total']\n",
    "rl=result[cls]\n",
    "rl.head(5)\n",
    "r2=rl[(rl.Religion != 'Total')]\n",
    "print(len(rl), len(r2))"
   ]
  },
  {
   "cell_type": "code",
   "execution_count": 127,
   "metadata": {
    "collapsed": true
   },
   "outputs": [],
   "source": [
    "file_opath=\"/Users/mthipparthi/PycharmProjects/janaganana-data/data/cleaned_data/religion_pca_cleaned.csv\"\n",
    "\n",
    "r2.to_csv(file_opath)"
   ]
  },
  {
   "cell_type": "code",
   "execution_count": 128,
   "metadata": {
    "collapsed": false
   },
   "outputs": [
    {
     "data": {
      "text/plain": [
       "22752"
      ]
     },
     "execution_count": 128,
     "metadata": {},
     "output_type": "execute_result"
    }
   ],
   "source": [
    "len(r2)"
   ]
  },
  {
   "cell_type": "code",
   "execution_count": 129,
   "metadata": {
    "collapsed": true
   },
   "outputs": [],
   "source": [
    "r3=r2.drop_duplicates()"
   ]
  },
  {
   "cell_type": "code",
   "execution_count": 130,
   "metadata": {
    "collapsed": false
   },
   "outputs": [
    {
     "data": {
      "text/plain": [
       "21632"
      ]
     },
     "execution_count": 130,
     "metadata": {},
     "output_type": "execute_result"
    }
   ],
   "source": [
    "len(r3)"
   ]
  },
  {
   "cell_type": "code",
   "execution_count": 131,
   "metadata": {
    "collapsed": true
   },
   "outputs": [],
   "source": [
    "r3.to_csv(file_opath)"
   ]
  },
  {
   "cell_type": "code",
   "execution_count": null,
   "metadata": {
    "collapsed": true
   },
   "outputs": [],
   "source": []
  }
 ],
 "metadata": {
  "anaconda-cloud": {},
  "kernelspec": {
   "display_name": "Python [Root]",
   "language": "python",
   "name": "Python [Root]"
  },
  "language_info": {
   "codemirror_mode": {
    "name": "ipython",
    "version": 3
   },
   "file_extension": ".py",
   "mimetype": "text/x-python",
   "name": "python",
   "nbconvert_exporter": "python",
   "pygments_lexer": "ipython3",
   "version": "3.5.2"
  }
 },
 "nbformat": 4,
 "nbformat_minor": 0
}
